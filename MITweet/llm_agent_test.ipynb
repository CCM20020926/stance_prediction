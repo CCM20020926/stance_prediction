{
 "cells": [
  {
   "cell_type": "code",
   "execution_count": 1,
   "metadata": {},
   "outputs": [
    {
     "data": {
      "text/plain": [
       "True"
      ]
     },
     "execution_count": 1,
     "metadata": {},
     "output_type": "execute_result"
    }
   ],
   "source": [
    "import os\n",
    "import dotenv\n",
    "dotenv.load_dotenv()"
   ]
  },
  {
   "cell_type": "code",
   "execution_count": 8,
   "metadata": {},
   "outputs": [],
   "source": [
    "from llm_agent import LLMAgentZeroShot\n",
    "\n",
    "agent = LLMAgentZeroShot(\"deepseek-ai/DeepSeek-V3\")\n",
    "agent2 = LLMAgentZeroShot(\"deepseek-ai/DeepSeek-R1\")\n",
    "agent3 = LLMAgentZeroShot(\"gpt-5\")"
   ]
  },
  {
   "cell_type": "code",
   "execution_count": 3,
   "metadata": {},
   "outputs": [],
   "source": [
    "text = \"How could anyone in #LawEnforcement support Trump, who never mentioned the slain Capitol Hill policeman or ordered the White House flag to be flown at half mast?\"\n",
    "\n",
    "response = agent.invoke(text)"
   ]
  },
  {
   "cell_type": "code",
   "execution_count": 4,
   "metadata": {},
   "outputs": [
    {
     "name": "stdout",
     "output_type": "stream",
     "text": [
      "```json\n",
      "{\n",
      "    \"reason\": \"The text criticizes Trump for not acknowledging the slain Capitol Hill policeman and not ordering the White House flag to be flown at half mast, which reflects a negative view of Trump's actions. This suggests a left-leaning perspective on political regime (I1) and justice orientation (I11), as it emphasizes social responsibility and outcome equality. The text does not directly address other dimensions, so they are marked as unrelated.\",\n",
      "    \"result\": {\n",
      "        \"I1\": 1,\n",
      "        \"I2\": 0,\n",
      "        \"I3\": 0,\n",
      "        \"I4\": 0,\n",
      "        \"I5\": 0,\n",
      "        \"I6\": 0,\n",
      "        \"I7\": 0,\n",
      "        \"I8\": 0,\n",
      "        \"I9\": 0,\n",
      "        \"I10\": 0,\n",
      "        \"I11\": 1,\n",
      "        \"I12\": 0\n",
      "    }\n",
      "}\n",
      "```\n"
     ]
    }
   ],
   "source": [
    "print(response)"
   ]
  },
  {
   "cell_type": "code",
   "execution_count": 6,
   "metadata": {},
   "outputs": [
    {
     "name": "stdout",
     "output_type": "stream",
     "text": [
      "{\n",
      "    \"reason\": \"The text criticizes Donald Trump for not honoring a slain Capitol Hill police officer, emphasizing a perceived failure in social responsibility. This aligns with the 'Social Responsibility' aspect of I12 (Personal Right), where the author implies that leaders have duties to acknowledge collective sacrifices. The text does not address other dimensions (e.g., economic systems, state structure, or foreign policy), leaving them unrelated.\",\n",
      "    \"result\": {\n",
      "        \"I1\": 0,\n",
      "        \"I2\": 0,\n",
      "        \"I3\": 0,\n",
      "        \"I4\": 0,\n",
      "        \"I5\": 0,\n",
      "        \"I6\": 0,\n",
      "        \"I7\": 0,\n",
      "        \"I8\": 0,\n",
      "        \"I9\": 0,\n",
      "        \"I10\": 0,\n",
      "        \"I11\": 0,\n",
      "        \"I12\": 1\n",
      "    }\n",
      "}\n"
     ]
    }
   ],
   "source": [
    "print(agent2.invoke(text))"
   ]
  },
  {
   "cell_type": "code",
   "execution_count": 10,
   "metadata": {},
   "outputs": [
    {
     "name": "stdout",
     "output_type": "stream",
     "text": [
      "{\n",
      "    \"reason\": \"The input is a critique of Donald Trump’s symbolic actions toward a slain Capitol Hill policeman and questions law enforcement support for him. It does not express positions on economic systems, state structure, market vs. command economy, equality frameworks, ethical issues like abortion or same-sex marriage, church–state relations, collectivism vs. individualism, foreign policy, militarism (international), approaches to social change, justice theory, or rights vs. responsibilities. Therefore, it is unrelated to the specified ideological dimensions.\",\n",
      "    \"result\": {\n",
      "        \"I1\": 0,\n",
      "        \"I2\": 0,\n",
      "        \"I3\": 0,\n",
      "        \"I4\": 0,\n",
      "        \"I5\": 0,\n",
      "        \"I6\": 0,\n",
      "        \"I7\": 0,\n",
      "        \"I8\": 0,\n",
      "        \"I9\": 0,\n",
      "        \"I10\": 0,\n",
      "        \"I11\": 0,\n",
      "        \"I12\": 0\n",
      "    }\n",
      "}\n"
     ]
    }
   ],
   "source": [
    "print(agent3.invoke(text))"
   ]
  }
 ],
 "metadata": {
  "kernelspec": {
   "display_name": "transformers",
   "language": "python",
   "name": "python3"
  },
  "language_info": {
   "codemirror_mode": {
    "name": "ipython",
    "version": 3
   },
   "file_extension": ".py",
   "mimetype": "text/x-python",
   "name": "python",
   "nbconvert_exporter": "python",
   "pygments_lexer": "ipython3",
   "version": "3.12.11"
  }
 },
 "nbformat": 4,
 "nbformat_minor": 2
}
