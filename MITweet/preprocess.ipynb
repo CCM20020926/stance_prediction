{
 "cells": [
  {
   "cell_type": "code",
   "execution_count": 1,
   "metadata": {},
   "outputs": [],
   "source": [
    "train_ds_path = \"/home/ccm/datasets/MITweet/data/random_split/train.csv\"\n",
    "eval_ds_path = \"/home/ccm/datasets/MITweet/data/random_split/val.csv\"\n",
    "test_ds_path = \"/home/ccm/datasets/MITweet/data/random_split/test.csv\""
   ]
  },
  {
   "cell_type": "code",
   "execution_count": 2,
   "metadata": {},
   "outputs": [
    {
     "name": "stdout",
     "output_type": "stream",
     "text": [
      "Index(['topic', 'tweet', 'tokenized tweet', 'R1', 'R2', 'R3', 'R4', 'R5',\n",
      "       'R1-1-1', 'R2-1-2', 'R3-2-1', 'R4-2-2', 'R5-3-1', 'R6-3-2', 'R7-3-3',\n",
      "       'R8-4-1', 'R9-4-2', 'R10-5-1', 'R11-5-2', 'R12-5-3', 'I1', 'I2', 'I3',\n",
      "       'I4', 'I5', 'I6', 'I7', 'I8', 'I9', 'I10', 'I11', 'I12'],\n",
      "      dtype='object')\n",
      "           topic                                              tweet  \\\n",
      "0   George Floyd  Why do I NOT trust the FBI with the #GeorgeFlo...   \n",
      "1  Women’s Right  Pregnant women are at a higher risk domestic v...   \n",
      "2       Covid-19  Africa's most populous nation is, thankfully, ...   \n",
      "3  Women’s Right  I think a Women's Tournament in Overwatch coul...   \n",
      "4  Energy Crisis  Jeff Currie talk about the gas rally, and why ...   \n",
      "\n",
      "                                     tokenized tweet  R1  R2  R3  R4  R5  \\\n",
      "0  Why do I NOT trust the FBI with the #GeorgeFlo...   0   0   0   0   1   \n",
      "1  Pregnant women are at a higher risk domestic v...   0   0   1   0   1   \n",
      "2  Africa's most populous nation is , thankfully ...   0   0   0   0   1   \n",
      "3  I think a Women's Tournament in Overwatch coul...   0   0   0   0   1   \n",
      "4  Jeff Currie talk about the gas rally , and why...   0   1   0   0   0   \n",
      "\n",
      "   R1-1-1  R2-1-2  ...  I3  I4  I5  I6  I7  I8  I9  I10  I11  I12  \n",
      "0       0       0  ...  -1  -1  -1  -1  -1  -1  -1    0    0   -1  \n",
      "1       0       0  ...  -1  -1   1  -1  -1  -1  -1   -1    0    2  \n",
      "2       0       0  ...  -1  -1  -1  -1  -1  -1  -1    0   -1   -1  \n",
      "3       0       0  ...  -1  -1  -1  -1  -1  -1  -1   -1    0   -1  \n",
      "4       0       0  ...   1  -1  -1  -1  -1  -1  -1   -1   -1   -1  \n",
      "\n",
      "[5 rows x 32 columns]\n"
     ]
    }
   ],
   "source": [
    "import pandas as pd\n",
    "\n",
    "df = pd.read_csv(train_ds_path)\n",
    "print(df.columns)\n",
    "print(df.head())"
   ]
  },
  {
   "cell_type": "code",
   "execution_count": 3,
   "metadata": {},
   "outputs": [
    {
     "name": "stdout",
     "output_type": "stream",
     "text": [
      "Mean: 214.09471415607985\n",
      "Max: 280\n",
      "Min: 81\n",
      "Std: 51.04267848091746\n"
     ]
    }
   ],
   "source": [
    "import numpy as np\n",
    "\n",
    "tweets = df[\"tweet\"].to_list()\n",
    "tweets_len = np.array([len(tweet) for tweet in tweets])\n",
    "print(\"Mean:\", tweets_len.mean())\n",
    "print(\"Max:\", tweets_len.max())\n",
    "print(\"Min:\", tweets_len.min())\n",
    "print(\"Std:\", tweets_len.std())"
   ]
  },
  {
   "cell_type": "code",
   "execution_count": 4,
   "metadata": {},
   "outputs": [
    {
     "name": "stdout",
     "output_type": "stream",
     "text": [
      "['I1', 'I2', 'I3', 'I4', 'I5', 'I6', 'I7', 'I8', 'I9', 'I10', 'I11', 'I12']\n"
     ]
    }
   ],
   "source": [
    "label_columns = ['I'+str(i) for i in range(1, 13, 1)]\n",
    "print(label_columns)"
   ]
  },
  {
   "cell_type": "code",
   "execution_count": 5,
   "metadata": {},
   "outputs": [],
   "source": [
    "def combine_labels(path):\n",
    "    df = pd.read_csv(path)\n",
    "    length = len(df)\n",
    "\n",
    "    topics = df['topic'].to_list()\n",
    "    tweets = df['tweet'].to_list()\n",
    "    labels = []\n",
    "\n",
    "    for i in range(length):\n",
    "        label = []\n",
    "        for col in label_columns:\n",
    "            label.append(df[col].iloc[i].item() + 1)\n",
    "    \n",
    "        labels.append(label)\n",
    "\n",
    "    new_df = pd.DataFrame(\n",
    "        {\n",
    "            \"topic\": topics,\n",
    "            \"tweet\": tweets,\n",
    "            \"labels\": labels\n",
    "        }\n",
    "    )\n",
    "\n",
    "    return new_df \n"
   ]
  },
  {
   "cell_type": "code",
   "execution_count": 10,
   "metadata": {},
   "outputs": [
    {
     "name": "stdout",
     "output_type": "stream",
     "text": [
      "8816\n",
      "1889\n",
      "1889\n"
     ]
    }
   ],
   "source": [
    "df_train = combine_labels(train_ds_path)\n",
    "df_eval = combine_labels(eval_ds_path)\n",
    "df_test = combine_labels(test_ds_path)\n",
    "\n",
    "print(len(df_train))\n",
    "print(len(df_eval))\n",
    "print(len(df_test))\n",
    "\n",
    "df_train.to_csv(\"processed_data/train.csv\", index=None, encoding='utf-8')\n",
    "df_eval.to_csv(\"processed_data/eval.csv\", index=None, encoding='utf-8')\n",
    "df_test.to_csv(\"processed_data/test.csv\", index=None, encoding='utf-8')"
   ]
  },
  {
   "cell_type": "code",
   "execution_count": 8,
   "metadata": {},
   "outputs": [
    {
     "data": {
      "text/plain": [
       "'[0, 0, 0, 0, 0, 0, 0, 0, 0, 1, 1, 0]'"
      ]
     },
     "execution_count": 8,
     "metadata": {},
     "output_type": "execute_result"
    }
   ],
   "source": [
    "df = pd.read_csv(\"processed_data/train.csv\")\n",
    "df[\"labels\"].iloc[0]"
   ]
  },
  {
   "cell_type": "code",
   "execution_count": 9,
   "metadata": {},
   "outputs": [
    {
     "data": {
      "text/plain": [
       "[0, 0, 0, 0, 0, 0, 0, 0, 0, 1, 1, 0]"
      ]
     },
     "execution_count": 9,
     "metadata": {},
     "output_type": "execute_result"
    }
   ],
   "source": [
    "import ast\n",
    "ast.literal_eval(df[\"labels\"].iloc[0])"
   ]
  }
 ],
 "metadata": {
  "kernelspec": {
   "display_name": "transformers",
   "language": "python",
   "name": "python3"
  },
  "language_info": {
   "codemirror_mode": {
    "name": "ipython",
    "version": 3
   },
   "file_extension": ".py",
   "mimetype": "text/x-python",
   "name": "python",
   "nbconvert_exporter": "python",
   "pygments_lexer": "ipython3",
   "version": "3.12.11"
  }
 },
 "nbformat": 4,
 "nbformat_minor": 2
}
